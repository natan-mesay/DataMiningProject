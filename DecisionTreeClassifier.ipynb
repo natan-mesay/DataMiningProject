{
  "nbformat": 4,
  "nbformat_minor": 0,
  "metadata": {
    "colab": {
      "provenance": []
    },
    "kernelspec": {
      "name": "python3",
      "display_name": "Python 3"
    },
    "language_info": {
      "name": "python"
    }
  },
  "cells": [
    {
      "cell_type": "code",
      "execution_count": null,
      "metadata": {
        "id": "ZKdDRexRWfAf"
      },
      "outputs": [],
      "source": [
        "import numpy as np\n",
        "import pandas as pd\n",
        "from scipy import stats\n",
        "from sklearn.model_selection import train_test_split, cross_val_score\n",
        "import matplotlib.pyplot as plt\n",
        "\n",
        "\n",
        "\n",
        "df = pd.read_csv('crime2020.csv', encoding = \"ISO-8859-1\")\n",
        "#if you have other csv you can add here"
      ]
    },
    {
      "cell_type": "code",
      "source": [
        "df['DISTRICT_ID'] = pd.to_numeric(df['DISTRICT_ID'], errors='coerce')\n",
        "df = df.dropna()\n",
        "\n",
        "df['DISTRICT_ID'] = df['DISTRICT_ID'].astype(float)\n",
        "df['GEO_LAT'] = df['GEO_LAT'].astype(float)\n",
        "df['GEO_LON'] = df['GEO_LON'].astype(float)\n",
        "\n",
        "features = ['GEO_LAT', 'GEO_LON', 'DISTRICT_ID']\n",
        "df2 = df[df['OFFENSE_CATEGORY_ID'] .isin( ['drug-alcohol', 'public-disorder'])][features]\n",
        "\n",
        "\n",
        "X = df2[features[:2]].values\n",
        "y = df2[features[-1]].values\n",
        "# y = np.reshape(y, (df2.shape[0], 1))\n",
        "X_train, X_test, y_train, y_test = train_test_split(X, y, test_size=0.3)"
      ],
      "metadata": {
        "id": "L1ij_-3HWjh0"
      },
      "execution_count": null,
      "outputs": []
    },
    {
      "cell_type": "code",
      "source": [
        "from sklearn.tree import DecisionTreeClassifier\n",
        "clf = DecisionTreeClassifier(max_depth = 5)\n",
        "clf = clf.fit(X_train, y_train)\n",
        "clf.get_params()"
      ],
      "metadata": {
        "id": "RW4OsEVqWmAD"
      },
      "execution_count": null,
      "outputs": []
    },
    {
      "cell_type": "code",
      "source": [
        "from sklearn.metrics import accuracy_score\n",
        "accuracy_score(y_test, predicitons)"
      ],
      "metadata": {
        "id": "pL1_x9IjWqQc"
      },
      "execution_count": null,
      "outputs": []
    },
    {
      "cell_type": "code",
      "source": [
        "from sklearn.metrics import confusion_matrix\n",
        "confusion_matrix(y_test, predicitons)"
      ],
      "metadata": {
        "id": "Q6x5tylOWrQD"
      },
      "execution_count": null,
      "outputs": []
    },
    {
      "cell_type": "code",
      "source": [
        "df_test = pd.DataFrame(np.column_stack((X_test, y_test)), columns=['GEO_LAT', 'GEO_LON', 'DISTRICT_ID'])\n",
        "df_pred = pd.DataFrame(np.column_stack((X_test, predicitons)), columns=['GEO_LAT', 'GEO_LON', 'DISTRICT_ID'])\n",
        "\n",
        "import seaborn as sns\n",
        "\n",
        "cmap_pred = sns.cubehelix_palette(dark=.9, light=.1, as_cmap=True)\n",
        "\n",
        "fig, axes = plt.subplots(2, 2, figsize=(20, 10))\n",
        "plt.title('Public Disorder Occurences by District (Prediction vs Test)')\n",
        "\n",
        "axes[0,1].title.set_text('Public Disorder Occurences by District (Prediction vs Test)')\n",
        "axes[1,0].title.set_text('Public Disorder Occurences by District (Test)')\n",
        "axes[1,1].title.set_text('Public Disorder Occurences by District (Prediction)')\n",
        "\n",
        "sns.scatterplot(x='GEO_LON',\n",
        "                y='GEO_LAT', \n",
        "                hue='DISTRICT_ID', \n",
        "                legend='full',\n",
        "                palette='Set2',\n",
        "                alpha=0.5,\n",
        "                ax=axes[0,1],\n",
        "                data=df_pred)\n",
        "\n",
        "sns.scatterplot(x='GEO_LON',\n",
        "                y='GEO_LAT', \n",
        "                hue='DISTRICT_ID', \n",
        "                legend='full',\n",
        "                palette='Set1',\n",
        "                alpha=0.5,\n",
        "                ax=axes[0,1],\n",
        "                data=df_test)\n",
        "\n",
        "sns.scatterplot(x='GEO_LON',\n",
        "                y='GEO_LAT', \n",
        "                hue='DISTRICT_ID', \n",
        "                legend='full',\n",
        "                palette='Set2',\n",
        "                ax=axes[1,0],\n",
        "                data=df_pred)\n",
        "\n",
        "sns.scatterplot(x='GEO_LON',\n",
        "                y='GEO_LAT', \n",
        "                hue='DISTRICT_ID', \n",
        "                legend='full',\n",
        "                palette='Set1',\n",
        "                ax=axes[1,1],\n",
        "                data=df_test)"
      ],
      "metadata": {
        "id": "GiHpvczoWsab"
      },
      "execution_count": null,
      "outputs": []
    }
  ]
}