{
  "nbformat": 4,
  "nbformat_minor": 0,
  "metadata": {
    "colab": {
      "provenance": []
    },
    "kernelspec": {
      "name": "python3",
      "display_name": "Python 3"
    },
    "language_info": {
      "name": "python"
    }
  },
  "cells": [
    {
      "cell_type": "code",
      "execution_count": null,
      "metadata": {
        "id": "LAwXyStuXB7z"
      },
      "outputs": [],
      "source": [
        "import numpy as np # linear algebra\n",
        "import pandas as pd # data processing, CSV file I/O (e.g. pd.read_csv)\n",
        "import matplotlib.pyplot as plt\n",
        "import seaborn as sns\n",
        "\n",
        "df = pd.read_csv('crime.csv', encoding = \"ISO-8859-1\")"
      ]
    },
    {
      "cell_type": "code",
      "source": [
        "df['DISTRICT_ID'] = pd.to_numeric(df['DISTRICT_ID'], errors='coerce')\n",
        "df = df.dropna()\n",
        "\n",
        "df['DISTRICT_ID'] = df['DISTRICT_ID'].astype(float)\n",
        "df['GEO_LAT'] = df['GEO_LAT'].astype(float)\n",
        "df['GEO_LON'] = df['GEO_LON'].astype(float)"
      ],
      "metadata": {
        "id": "4qxnklWDXGiD"
      },
      "execution_count": null,
      "outputs": []
    },
    {
      "cell_type": "code",
      "source": [
        "from sklearn.metrics import accuracy_score\n",
        "accuracy_score(y_test, y_pred)\n"
      ],
      "metadata": {
        "id": "YisyLnuvXLhY"
      },
      "execution_count": null,
      "outputs": []
    },
    {
      "cell_type": "code",
      "source": [
        "from sklearn.metrics import confusion_matrix\n",
        "confusion_matrix(y_test, y_pred)"
      ],
      "metadata": {
        "id": "f0O3aRSLXLa4"
      },
      "execution_count": null,
      "outputs": []
    },
    {
      "cell_type": "code",
      "source": [
        "from sklearn.model_selection import train_test_split, GridSearchCV\n",
        "from sklearn.neighbors import KNeighborsClassifier\n",
        "from sklearn.metrics import classification_report, confusion_matrix, mean_absolute_error\n",
        "\n",
        "\n",
        "features = ['GEO_LAT', 'GEO_LON', 'DISTRICT_ID']\n",
        "df2 = df[df['OFFENSE_CATEGORY_ID'] .isin( ['drug-alcohol', 'public-disorder'])][features]\n",
        "\n",
        "X = df2[features[:2]].values\n",
        "y = df2[features[-1]].values\n",
        "y = np.reshape(y, (df2.shape[0], 1))\n",
        "\n",
        "X_train, X_test, y_train, y_test = train_test_split(X, y, test_size=0.3)\n",
        "knn = KNeighborsClassifier()\n",
        "knn.fit(X_train, y_train)\n",
        "\n",
        "y_pred = knn.predict(X_test)\n",
        "df_pred = pd.DataFrame(np.column_stack((X_test, y_pred)), columns=['GEO_LAT', 'GEO_LON', 'DISTRICT_ID'])\n",
        "df_test = pd.DataFrame(np.column_stack((X_test, y_test)), columns=['GEO_LAT', 'GEO_LON', 'DISTRICT_ID'])"
      ],
      "metadata": {
        "id": "wzs_wSj5XLV4"
      },
      "execution_count": null,
      "outputs": []
    },
    {
      "cell_type": "code",
      "source": [
        "cmap_pred = sns.cubehelix_palette(dark=.9, light=.1, as_cmap=True)\n",
        "\n",
        "fig, axes = plt.subplots(2, 2, figsize=(20, 10))\n",
        "plt.title('Public Disorder Occurences by District (Prediction vs Test)')\n",
        "\n",
        "axes[0,1].title.set_text('Public Disorder Occurences by District (Prediction vs Test)')\n",
        "axes[1,0].title.set_text('Public Disorder Occurences by District (Test)')\n",
        "axes[1,1].title.set_text('Public Disorder Occurences by District (Prediction)')\n",
        "\n",
        "sns.scatterplot(x='GEO_LON',\n",
        "                y='GEO_LAT', \n",
        "                hue='DISTRICT_ID', \n",
        "                legend='full',\n",
        "                palette='Set2',\n",
        "                alpha=0.5,\n",
        "                ax=axes[0,1],\n",
        "                data=df_pred)\n",
        "\n",
        "sns.scatterplot(x='GEO_LON',\n",
        "                y='GEO_LAT', \n",
        "                hue='DISTRICT_ID', \n",
        "                legend='full',\n",
        "                palette='Set1',\n",
        "                alpha=0.5,\n",
        "                ax=axes[0,1],\n",
        "                data=df_test)\n",
        "\n",
        "sns.scatterplot(x='GEO_LON',\n",
        "                y='GEO_LAT', \n",
        "                hue='DISTRICT_ID', \n",
        "                legend='full',\n",
        "                palette='Set2',\n",
        "                ax=axes[1,0],\n",
        "                data=df_pred)\n",
        "\n",
        "sns.scatterplot(x='GEO_LON',\n",
        "                y='GEO_LAT', \n",
        "                hue='DISTRICT_ID', \n",
        "                legend='full',\n",
        "                palette='Set1',\n",
        "                ax=axes[1,1],\n",
        "                data=df_test)"
      ],
      "metadata": {
        "id": "28duJopwXK0u"
      },
      "execution_count": null,
      "outputs": []
    }
  ]
}